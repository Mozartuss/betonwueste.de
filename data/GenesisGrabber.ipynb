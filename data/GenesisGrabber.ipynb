{
 "cells": [
  {
   "cell_type": "markdown",
   "metadata": {},
   "source": [
    "# Imports"
   ]
  },
  {
   "cell_type": "code",
   "execution_count": null,
   "metadata": {},
   "outputs": [],
   "source": [
    "import requests\n",
    "import getpass\n",
    "import pickle\n",
    "import io\n",
    "import time\n",
    "import pandas as pd\n",
    "import matplotlib.pyplot as plt\n",
    "import seaborn as sns\n",
    "import numpy as np\n",
    "import itertools"
   ]
  },
  {
   "cell_type": "markdown",
   "metadata": {},
   "source": [
    "# Login\n",
    "https://www.statistikdaten.bayern.de/genesis/online?Menu=Anmeldung#abreadcrumb"
   ]
  },
  {
   "cell_type": "code",
   "execution_count": null,
   "metadata": {
    "jupyter": {
     "source_hidden": true
    },
    "tags": []
   },
   "outputs": [],
   "source": [
    "username = input()"
   ]
  },
  {
   "cell_type": "code",
   "execution_count": null,
   "metadata": {
    "jupyter": {
     "source_hidden": true
    },
    "tags": []
   },
   "outputs": [],
   "source": [
    "password = getpass.getpass()"
   ]
  },
  {
   "cell_type": "markdown",
   "metadata": {},
   "source": [
    "## Test login"
   ]
  },
  {
   "cell_type": "code",
   "execution_count": null,
   "metadata": {
    "jupyter": {
     "source_hidden": true
    },
    "tags": []
   },
   "outputs": [],
   "source": [
    "class GenesisApi:\n",
    "    \n",
    "    def __init__(self, username, password, polling_rate=5):\n",
    "        self.username = username\n",
    "        self.password = password\n",
    "        self.polling_rate = polling_rate\n",
    "        \n",
    "        self.__base_url = 'https://www.statistikdaten.bayern.de/genesisWS/rest/2020/'\n",
    "        \n",
    "        self.__base_params = {\n",
    "            'username': username,\n",
    "            'password': password,\n",
    "            'language': 'de'\n",
    "        }\n",
    "        \n",
    "        self.__default_table_params = self.__base_params.copy()\n",
    "        self.__default_table_params.update({\n",
    "            'name': '',\n",
    "            'area': 'all',\n",
    "            'compress': 'false',\n",
    "            'transpose': 'false',\n",
    "            'startyear': '',\n",
    "            'endyear': '',\n",
    "            'timeslices': '',\n",
    "            'regionalvariable': '',\n",
    "            'regionalkey': '',\n",
    "            'classifyingkey1': '',\n",
    "            'classifyingvariable2': '',\n",
    "            'classifyingkey2': '',\n",
    "            'classifyingvariable3': '',\n",
    "            'classifyingkey3': '',\n",
    "            'job': 'true'\n",
    "        })\n",
    "        \n",
    "        self.__default_jobs_params = self.__base_params.copy()\n",
    "        self.__default_jobs_params.update({\n",
    "            'selection': '',\n",
    "            'searchcriterion': 'code',\n",
    "            'sortcriterion': 'code',\n",
    "            'type': 'all',\n",
    "            'area': 'all',\n",
    "            'pagelength': '100'\n",
    "        })\n",
    "        \n",
    "        self.__default_result_params = self.__base_params.copy()\n",
    "        self.__default_result_params.update({\n",
    "            'name': '',\n",
    "            'area': 'all',\n",
    "            'compress': 'false'\n",
    "        })\n",
    "        \n",
    "    def check_login(self):\n",
    "        response = requests.get(self.__base_url + 'helloworld/logincheck', params=self.__base_params)\n",
    "        b'{\"Status\":\"Sie wurden erfolgreich an- und abgemeldet!\",\"Username\":\"GB3U65P838\"}'\n",
    "        try:\n",
    "            return response.json()['Status'] == 'Sie wurden erfolgreich an- und abgemeldet!'\n",
    "        except Exception as e:\n",
    "            return False\n",
    "\n",
    "\n",
    "    def get_table(self, name, startyear=''):\n",
    "        startyear = str(startyear)\n",
    "        \n",
    "        params = self.__default_table_params.copy()\n",
    "        params['name'] = name\n",
    "        params['startyear'] = startyear\n",
    "        \n",
    "        response = requests.get(self.__base_url + 'data/table', params=params)\n",
    "        \n",
    "        data = response.json()\n",
    "        code = data['Status']['Code']\n",
    "        if (code == 0): # Success\n",
    "            return data\n",
    "        elif (code == 99): # Table is too big a job has been created\n",
    "            print('Table is too big, created a job.')\n",
    "            result_name = data['Status']['Content'].split(':', 1)[1][1:]\n",
    "            return self.get_job_result(result_name)\n",
    "        else:\n",
    "            params['password'] = '***'\n",
    "            print('Error requesting ' + name + ' with params:', params, 'response:', data)\n",
    "            return data\n",
    "    \n",
    "    def is_job_ready(self, name):\n",
    "        params = self.__default_jobs_params.copy()\n",
    "        params['selection'] = 'Werteabruf ' + name\n",
    "        \n",
    "        response = requests.get(self.__base_url + 'catalogue/jobs', params=params)\n",
    "        try:\n",
    "            return response.json()['List'][0]['State'] == 'Fertig'\n",
    "        except Exception as e:\n",
    "            return False\n",
    "    \n",
    "    def delete_job_result(self, name):\n",
    "        params = self.__default_result_params.copy()\n",
    "        params['name'] = name\n",
    "        response = requests.get(self.__base_url + 'profile/removeResult', params=params)\n",
    "        return response        \n",
    "    \n",
    "    def get_job_result(self, name):\n",
    "        params = self.__default_result_params.copy()\n",
    "        params['name'] = name\n",
    "        \n",
    "        while(not self.is_job_ready(name)):\n",
    "            print('Data is not ready waiting ' + str(self.polling_rate) + ' seconds longer.')\n",
    "            time.sleep(self.polling_rate)\n",
    "        \n",
    "        response = requests.get(self.__base_url + 'data/result', params=params)\n",
    "        self.delete_job_result(name)\n",
    "        return response.json()\n"
   ]
  },
  {
   "cell_type": "code",
   "execution_count": null,
   "metadata": {
    "jupyter": {
     "source_hidden": true
    },
    "tags": []
   },
   "outputs": [],
   "source": [
    "genesis = GenesisApi(username, password)\n",
    "genesis.check_login()"
   ]
  },
  {
   "cell_type": "markdown",
   "metadata": {},
   "source": [
    "# Download data\n",
    "\n",
    "Note: This takes a long time"
   ]
  },
  {
   "cell_type": "code",
   "execution_count": null,
   "metadata": {
    "jupyter": {
     "source_hidden": true
    },
    "tags": []
   },
   "outputs": [],
   "source": [
    "responses_demographic = {}\n",
    "\n",
    "for year in range(1980, 2020 + 1):\n",
    "    print('Requesting table for the year ' + str(year))\n",
    "    response = genesis.get_table('12411-003r', year)\n",
    "    print('Got data')\n",
    "    responses_demographic[str(year)] = response"
   ]
  },
  {
   "cell_type": "code",
   "execution_count": null,
   "metadata": {
    "jupyter": {
     "source_hidden": true
    },
    "tags": []
   },
   "outputs": [],
   "source": [
    "responses_area = {}\n",
    "\n",
    "# 33111-201r 1980, 1984, 1988, 1992, 1996, 2000, 2004, 2008, 2009, 2010, 2011, 2012, 2013\n",
    "# 33111-101r 2011 - 2015\n",
    "# 33111-001r 2014 - 2020\n",
    "\n",
    "for year in [1980, 1984, 1988, 1992, 1996, 2000, 2004, 2008, 2009, 2010, 2011, 2012, 2013]:\n",
    "    print('Requesting table for the year ' + str(year))\n",
    "    response = genesis.get_table('33111-201r', year)\n",
    "    print('Got data')\n",
    "    responses_area[str(year)] = response\n",
    "\n",
    "for year in range(2014, 2020 + 1):\n",
    "    print('Requesting table for the year ' + str(year))\n",
    "    response = genesis.get_table('33111-001r', year)\n",
    "    print('Got data')\n",
    "    responses_area[str(year)] = response"
   ]
  },
  {
   "cell_type": "markdown",
   "metadata": {},
   "source": [
    "# Convert to DataFrame"
   ]
  },
  {
   "cell_type": "code",
   "execution_count": null,
   "metadata": {
    "jupyter": {
     "source_hidden": true
    },
    "tags": []
   },
   "outputs": [],
   "source": [
    "def convert_to_dataframe(response, start_at_line, date_line, header_line):\n",
    "    raw_content = response['Object']['Content']\n",
    "    content = raw_content.split('\\n', start_at_line)\n",
    "    date = content[date_line].split(';',1)[0]\n",
    "    csv = io.StringIO(content[header_line] + '\\n' + content[start_at_line].split('\\n__________', 1)[0])\n",
    "    df = pd.read_csv(csv, ';')\n",
    "    df['date'] = pd.to_datetime(date, format='%d.%m.%Y')\n",
    "    return df"
   ]
  },
  {
   "cell_type": "markdown",
   "metadata": {},
   "source": [
    "## Demographic"
   ]
  },
  {
   "cell_type": "code",
   "execution_count": null,
   "metadata": {
    "jupyter": {
     "source_hidden": true
    },
    "tags": []
   },
   "outputs": [],
   "source": [
    "dfs = list()\n",
    "for year, response in responses_demographic.items():\n",
    "    df = convert_to_dataframe(response, start_at_line=6, date_line=4, header_line=5)\n",
    "    dfs.append(df)\n",
    "\n",
    "df_demographic = pd.concat(dfs, axis=0, ignore_index=True)\n",
    "\n",
    "column_names = df_demographic.columns.values\n",
    "column_names[0] = 'AGS'\n",
    "column_names[1] = 'Gemeinde'\n",
    "df_demographic.columns = column_names\n",
    "\n",
    "df_demographic['Gemeinde'] = df_demographic['Gemeinde'].str.strip()\n",
    "df_demographic['Insgesamt'] = pd.to_numeric(df_demographic['Insgesamt'], errors='coerce')\n",
    "df_demographic['männlich'] = pd.to_numeric(df_demographic['männlich'], errors='coerce')\n",
    "df_demographic['weiblich'] = pd.to_numeric(df_demographic['weiblich'], errors='coerce')"
   ]
  },
  {
   "cell_type": "code",
   "execution_count": null,
   "metadata": {
    "jupyter": {
     "source_hidden": true
    },
    "tags": []
   },
   "outputs": [],
   "source": [
    "df_demographic\n",
    "# TODO Filter regierungsbezirke\n",
    "# TODO Filter male and female"
   ]
  },
  {
   "cell_type": "markdown",
   "metadata": {},
   "source": [
    "## Area"
   ]
  },
  {
   "cell_type": "code",
   "execution_count": null,
   "metadata": {
    "jupyter": {
     "source_hidden": true
    },
    "tags": []
   },
   "outputs": [],
   "source": [
    "dfs = list()\n",
    "for year, response in responses_area.items():\n",
    "    df = convert_to_dataframe(response, start_at_line=10, date_line=5, header_line=8)\n",
    "\n",
    "    column_names = df.columns.values\n",
    "    column_names[0] = 'AGS'\n",
    "    column_names[1] = 'Gemeinde'\n",
    "    df.columns = column_names\n",
    "\n",
    "    for column_name in column_names[2: len(column_names) - 1]:\n",
    "        df[column_name] = pd.to_numeric(df[column_name].str.replace(',', '.'), errors='coerce')\n",
    "\n",
    "    df['Gemeinde'] = df['Gemeinde'].str.strip()\n",
    "    \n",
    "    dfs.append(df)\n",
    "\n",
    "df_area = pd.concat(dfs, axis=0, ignore_index=True)"
   ]
  },
  {
   "cell_type": "code",
   "execution_count": null,
   "metadata": {
    "jupyter": {
     "source_hidden": true
    },
    "tags": []
   },
   "outputs": [],
   "source": [
    "df_area"
   ]
  },
  {
   "cell_type": "code",
   "execution_count": null,
   "metadata": {
    "jupyter": {
     "source_hidden": true
    },
    "tags": []
   },
   "outputs": [],
   "source": [
    "# TODO Map old area codes to new ones\n",
    "# TODO Map area codes to sealed and non-sealed\n",
    "# TODO Filter regierungsbezirke"
   ]
  },
  {
   "cell_type": "markdown",
   "metadata": {},
   "source": [
    "## Combined"
   ]
  },
  {
   "cell_type": "code",
   "execution_count": null,
   "metadata": {
    "tags": []
   },
   "outputs": [],
   "source": [
    "df_all = pd.merge(df_area, df_demographic,  how='left', on=['AGS', 'Gemeinde', 'date'])\n",
    "df_all.rename(columns={'Insgesamt_x':'Insgesamt Fläche', 'Insgesamt_y':'Insgesamt Bewohner'}, inplace=True)\n",
    "df_all"
   ]
  },
  {
   "cell_type": "markdown",
   "metadata": {},
   "source": [
    "# Save and load data"
   ]
  },
  {
   "cell_type": "code",
   "execution_count": null,
   "metadata": {
    "jupyter": {
     "source_hidden": true
    },
    "tags": []
   },
   "outputs": [],
   "source": [
    "df_demographic.to_pickle('df_demographic.pickle')\n",
    "df_area.to_pickle('df_area.pickle')\n",
    "\n",
    "with open('responses_demographic.pickle', 'wb') as f:\n",
    "    pickle.dump(responses_demographic, f, pickle.HIGHEST_PROTOCOL)\n",
    "\n",
    "with open('responses_area.pickle', 'wb') as f:\n",
    "    pickle.dump(responses_area, f, pickle.HIGHEST_PROTOCOL)"
   ]
  },
  {
   "cell_type": "code",
   "execution_count": null,
   "metadata": {},
   "outputs": [],
   "source": [
    "df_demographic = pd.read_pickle('df_demographic.pickle')\n",
    "df_area = pd.read_pickle('df_area.pickle')\n",
    "\n",
    "with open('responses_demographic.pickle', 'rb') as f:\n",
    "    responses_demographic = pickle.load(f)\n",
    "    \n",
    "with open('responses_area.pickle', 'rb') as f:\n",
    "    responses_area = pickle.load(f)"
   ]
  },
  {
   "cell_type": "markdown",
   "metadata": {},
   "source": [
    "## Categorize"
   ]
  },
  {
   "cell_type": "code",
   "execution_count": null,
   "metadata": {},
   "outputs": [],
   "source": [
    "categories = {\n",
    "    \"living\": [\n",
    "        \"Wohnen\",\n",
    "        \"11000 Wohnbaufläche\",\n",
    "    ],\n",
    "\n",
    "    \"industry\": [\n",
    "        \"Gewerbe, Industrie\",\n",
    "        \"Betriebsfläche (ohne Abbauland)\",\n",
    "        \"Abbauland\",\n",
    "        \"12100 Industrie und Gewerbe\",\n",
    "        \"12200 Handel und Dienstleistung\",\n",
    "        \"12300 Versorgungsanlage\",\n",
    "        \"12400 Entsorgung\",\n",
    "        \"13000 Halde\",\n",
    "        \"14000 Bergbaubetrieb\",\n",
    "        \"15000 Tagebau, Grube, Steinbruch\",\n",
    "    ],\n",
    "\n",
    "    \"transport_infrastructure\": [\n",
    "        \"Straße, Weg, Platz\",\n",
    "        \"sonstige Verkehrsfläche\",\n",
    "        \"21000 Straßenverkehr\",\n",
    "        \"22000 Weg\",\n",
    "        \"23000 Platz\",\n",
    "        \"24000 Bahnverkehr\",\n",
    "        \"25000 Flugverkehr\",\n",
    "        \"26000 Schiffsverkehr\",\n",
    "        \"42000 Hafenbecken\",\n",
    "    ],\n",
    "\n",
    "    \"nature_and_water\": [\n",
    "        \"Moor\",\n",
    "        \"Landwirtschaftsfläche (ohne Moor, Heide)\",\n",
    "        \"Grünanlage\",\n",
    "        \"Heide\",\n",
    "        \"Waldfläche\",\n",
    "        \"Wasserfläche\",\n",
    "        \"Unland\",\n",
    "        \"18400 Grünanlage\",\n",
    "        \"31100 Ackerland\",\n",
    "        \"31200 Grünland\",\n",
    "        \"31300 Gartenland\",\n",
    "        \"31400 Weingarten\",\n",
    "        \"31500 Obstplantage\",\n",
    "        \"32000 Wald\",\n",
    "        \"33000 Gehölz\",\n",
    "        \"34000 Heide\",\n",
    "        \"35000 Moor\",\n",
    "        \"36000 Sumpf\",\n",
    "        \"37000 Unland, Vegetationslose Fläche\",\n",
    "        \"41000 Fließgewässer\",\n",
    "        \"43000 Stehendes Gewässer\",\n",
    "    ],\n",
    "\n",
    "    \"miscellaneous\": [\n",
    "        \"Flächen anderer Nutzung (ohne Unland, Friedhof)\",\n",
    "        \"sonstige Erholungsfläche\",\n",
    "        \"sonstige Gebäude- und Freifläche\",\n",
    "        \"Friedhof\",\n",
    "        \"16000 Fläche gemischter Nutzung\",\n",
    "        \"17000 Fläche besonderer funktionaler Prägung\",\n",
    "        \"18100 Sportanlage\",\n",
    "        \"18200 Freizeitanlage\",\n",
    "        \"19000 Friedhof\",\n",
    "        \"18300 Erholungsfläche\",\n",
    "    ]\n",
    "}"
   ]
  },
  {
   "cell_type": "code",
   "execution_count": null,
   "metadata": {},
   "outputs": [],
   "source": [
    "# Check if we classified all columns and used each only once\n",
    "all_columns = set(df_area.columns)\n",
    "\n",
    "for l in categories.values():\n",
    "    all_columns = all_columns - set(l)\n",
    "    \n",
    "all_columns = all_columns - set(['AGS', 'Gemeinde', 'Insgesamt', 'date'])\n",
    "\n",
    "if (len(all_columns) != 0):\n",
    "    print (\"The categories\", all_columns, \"have not yet been categorized.\")\n",
    "\n",
    "for ((name1, l1), (name2, l2)) in itertools.combinations(categories.items(), 2):\n",
    "    if (not set(l1).isdisjoint(l2)):\n",
    "        print(name1, \"and\", name2, \"contain the same category.\")"
   ]
  },
  {
   "cell_type": "code",
   "execution_count": null,
   "metadata": {},
   "outputs": [],
   "source": [
    "for (name, category) in categories.items():\n",
    "    df_area[name] = df_area.loc[:,category].sum(axis=1)\n",
    "    df_area.drop(category, axis=1, inplace=True)\n",
    "    df_area[name + '_percent'] = df_area[name] / df_area['Insgesamt']"
   ]
  },
  {
   "cell_type": "code",
   "execution_count": null,
   "metadata": {},
   "outputs": [],
   "source": [
    "used_areas = [\n",
    "    \"living\",\n",
    "    \"industry\",\n",
    "    \"transport_infrastructure\"\n",
    "]\n",
    "df_area['used_area'] = 0\n",
    "for name in used_areas:\n",
    "    df_area['used_area'] = df_area['used_area'] + df_area.loc[:,used_areas].sum(axis=1)\n",
    "\n",
    "df_area['used_area_percent'] = df_area['used_area'] / df_area['Insgesamt']"
   ]
  },
  {
   "cell_type": "markdown",
   "metadata": {},
   "source": [
    "## Rename columns"
   ]
  },
  {
   "cell_type": "code",
   "execution_count": null,
   "metadata": {},
   "outputs": [],
   "source": [
    "df_area.rename(columns={\"Insgesamt\": \"total\", \"Gemeinde\": \"municipality\"}, inplace=True)"
   ]
  },
  {
   "cell_type": "markdown",
   "metadata": {},
   "source": [
    "## Filter unused municipalities"
   ]
  },
  {
   "cell_type": "code",
   "execution_count": null,
   "metadata": {},
   "outputs": [],
   "source": [
    "df_area = df_area[df_area[\"AGS\"] <= 9999]"
   ]
  },
  {
   "cell_type": "markdown",
   "metadata": {},
   "source": [
    "## Merge demographic data"
   ]
  },
  {
   "cell_type": "code",
   "execution_count": null,
   "metadata": {},
   "outputs": [],
   "source": [
    "df_area"
   ]
  },
  {
   "cell_type": "code",
   "execution_count": null,
   "metadata": {},
   "outputs": [],
   "source": [
    "df_demographic.drop([\"männlich\", \"weiblich\"], axis=1, inplace=True)\n",
    "df_demographic.rename(columns={\"Gemeinde\": \"municipality\", \"Insgesamt\": \"demographic\"}, inplace=True)"
   ]
  },
  {
   "cell_type": "code",
   "execution_count": null,
   "metadata": {},
   "outputs": [],
   "source": [
    "df_area = pd.merge(df_area, df_demographic,  how='left', on=['AGS', 'municipality', 'date'])"
   ]
  },
  {
   "cell_type": "markdown",
   "metadata": {},
   "source": [
    "## Export to JSON"
   ]
  },
  {
   "cell_type": "code",
   "execution_count": null,
   "metadata": {},
   "outputs": [],
   "source": [
    "df_area"
   ]
  },
  {
   "cell_type": "code",
   "execution_count": null,
   "metadata": {},
   "outputs": [],
   "source": [
    "df_export = df_area.copy()\n",
    "df_export['date'] = df_export['date'].dt.strftime('%d.%m.%Y')\n",
    "\n",
    "with open(\"data.json\", \"w\", encoding=\"utf-8\") as f:\n",
    "    df_export.to_json(f, orient=\"records\", force_ascii=False)"
   ]
  },
  {
   "cell_type": "markdown",
   "metadata": {},
   "source": [
    "# Basic graphs"
   ]
  },
  {
   "cell_type": "code",
   "execution_count": null,
   "metadata": {},
   "outputs": [],
   "source": [
    "f, ax = plt.subplots(figsize=(7, 7))\n",
    "ax.set(yscale=\"log\")\n",
    "g = sns.lineplot(data=df_demographic[(df_demographic['Gemeinde']=='Friedberg, St') | (df_demographic['Gemeinde']=='Augsburg (Krfr.St)') | (df_demographic['Gemeinde']=='Garmisch-Partenkirchen, M')], style='Gemeinde', x='date', y='Insgesamt', ax=ax)\n",
    "g.set_title('Einwohner')\n",
    "g.set(ylim=(1, None))\n",
    "g\n",
    "#sns.lineplot(data=df_demographic, style='Gemeinde', x='date', y='Insgesamt', ax=ax)#, ylim=(0,300000))"
   ]
  },
  {
   "cell_type": "code",
   "execution_count": null,
   "metadata": {},
   "outputs": [],
   "source": [
    "f, ax = plt.subplots(figsize=(7, 7))\n",
    "#ax.set(yscale=\"log\")\n",
    "g = sns.lineplot(data=df_area[(df_area['municipality']=='Friedberg, St') | (df_area['municipality']=='Augsburg (Krfr.St)') | (df_area['municipality']=='Garmisch-Partenkirchen, M')], style='municipality', x='date', y='nature_and_water_percent', ax=ax)\n",
    "g.set_title('Natur und Wasserflächen')\n",
    "#g.set(ylim=(0, None))\n",
    "g"
   ]
  },
  {
   "cell_type": "code",
   "execution_count": null,
   "metadata": {},
   "outputs": [],
   "source": [
    "gem = ['Bayern']#, 'Oberbayern', 'Schwaben']\n",
    "size = 10\n",
    "f, axs = plt.subplots(len(gem), 1, figsize=(size*3, len(gem)*size*3))\n",
    "\n",
    "#df_area_2 = df_area_2[df_area_2['date'] > pd.to_datetime(\"1.1.2010\", format='%d.%m.%Y')]\n",
    "\n",
    "for i in range(0, len(gem)):\n",
    "    g = df_area[(df_area['municipality']==gem[i])].plot.area(\n",
    "        x='date', \n",
    "        y=['living_percent', 'industry_percent', 'transport_infrastructure_percent', 'nature_and_water_percent', 'miscellaneous_percent'], \n",
    "        stacked=True, \n",
    "        ax=(axs if len(gem) == 1 else axs[i]))\n",
    "    g.set_title('Flächen in ' + gem[i])\n",
    "    g.set(ylim=(0, None))\n",
    "\n",
    "plt.savefig('flächen.jpg')"
   ]
  }
 ],
 "metadata": {
  "kernelspec": {
   "display_name": "Python 3",
   "language": "python",
   "name": "python3"
  },
  "language_info": {
   "codemirror_mode": {
    "name": "ipython",
    "version": 3
   },
   "file_extension": ".py",
   "mimetype": "text/x-python",
   "name": "python",
   "nbconvert_exporter": "python",
   "pygments_lexer": "ipython3",
   "version": "3.9.5"
  }
 },
 "nbformat": 4,
 "nbformat_minor": 4
}
